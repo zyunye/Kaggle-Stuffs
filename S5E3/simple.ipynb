{
 "cells": [
  {
   "cell_type": "code",
   "execution_count": 1,
   "metadata": {},
   "outputs": [],
   "source": [
    "import gc\n",
    "\n",
    "import matplotlib.pyplot as plt\n",
    "import numpy as np\n",
    "import pandas as pd\n",
    "import plotly.express as px\n",
    "import plotly.graph_objects as go\n",
    "import seaborn as sns\n",
    "import umap\n",
    "from plotly.subplots import make_subplots\n",
    "from sklearn.cluster import KMeans\n",
    "from sklearn.decomposition import PCA\n",
    "from sklearn.feature_selection import mutual_info_classif\n",
    "from sklearn.preprocessing import StandardScaler"
   ]
  },
  {
   "cell_type": "code",
   "execution_count": 2,
   "metadata": {},
   "outputs": [],
   "source": [
    "train_df = pd.read_csv(\"data/train.csv\", index_col=\"id\")\n",
    "test_df = pd.read_csv(\"data/test.csv\", index_col=\"id\")\n",
    "\n",
    "TARGET_FEAT = \"rainfall\""
   ]
  },
  {
   "cell_type": "code",
   "execution_count": 3,
   "metadata": {},
   "outputs": [],
   "source": [
    "# Fix some mislabeled days\n",
    "train_df['expected_day'] = (train_df.index) % 365 + 1\n",
    "train_df['day_mislabeled'] = train_df['day'] != train_df['expected_day']\n",
    "train_df.loc[train_df['day_mislabeled'], \"day\"] = train_df.loc[train_df['day_mislabeled'], \"expected_day\"]\n",
    "\n",
    "train_df = train_df.drop(columns=[\"day_mislabeled\", \"expected_day\"])\n",
    "\n",
    "# Create artificial years\n",
    "train_df[\"year\"] = train_df.index // 365\n",
    "train_df[\"year\"] += 1\n",
    "test_df[\"year\"] = test_df.index // 365\n",
    "test_df[\"year\"] += 1\n",
    "\n",
    "# Fix the one test row with a nan value in winddirection \n",
    "test_df.loc[test_df.isna().any(axis=1), \"winddirection\"] = np.median(train_df[train_df[\"day\"] == 153][\"winddirection\"])"
   ]
  },
  {
   "cell_type": "code",
   "execution_count": null,
   "metadata": {},
   "outputs": [],
   "source": []
  }
 ],
 "metadata": {
  "kernelspec": {
   "display_name": "data",
   "language": "python",
   "name": "python3"
  },
  "language_info": {
   "codemirror_mode": {
    "name": "ipython",
    "version": 3
   },
   "file_extension": ".py",
   "mimetype": "text/x-python",
   "name": "python",
   "nbconvert_exporter": "python",
   "pygments_lexer": "ipython3",
   "version": "3.12.9"
  }
 },
 "nbformat": 4,
 "nbformat_minor": 2
}
